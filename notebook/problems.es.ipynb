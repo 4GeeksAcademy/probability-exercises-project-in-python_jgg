{
 "cells": [
  {
   "cell_type": "markdown",
   "id": "a41f3622",
   "metadata": {},
   "source": [
    "# Ejercicios de probabilidad"
   ]
  },
  {
   "cell_type": "markdown",
   "id": "a6bdbd89",
   "metadata": {},
   "source": [
    "## Ejercicio 1 \n",
    "\n",
    "Dos dados se lanzan una vez y se observa el total obtenido. Usa una simulación para encontrar la probabilidad estimada de que la puntuación sea mayor a 7 o un número par. Una simulación es una repetición del mismo experimento multiples veces para observar su comportamiento:\n",
    "\n",
    "- Ejecuta el experimento 1000 veces (lanza 2 dados 1000 veces, y suma el número de ambos dados).\n",
    "- Lleva ua cuenta de los números y las veces que la suma fue mayor a 7 o un número par.\n",
    "- Divide el número del paso 2 entre el número de iteraciones(1000)."
   ]
  },
  {
   "cell_type": "code",
   "execution_count": 209,
   "id": "8939d892",
   "metadata": {},
   "outputs": [
    {
     "name": "stdout",
     "output_type": "stream",
     "text": [
      "[ 2  3  4  5  6  7  8  9 10 11 12]\n",
      "[ 29  48  84 106 142 164 162  96  85  51  33]\n",
      "682\n",
      "68.2\n"
     ]
    }
   ],
   "source": [
    "# TODO\n",
    "import numpy as np\n",
    "\n",
    "dado1 = np.random.randint(1, 7, 1000)\n",
    "dado2 = np.random.randint(1, 7, 1000)\n",
    "\n",
    "suma_dados = dado1 + dado2\n",
    "\n",
    "valores, conteos = np.unique(suma_dados, return_counts=True)\n",
    "\n",
    "print(valores)\n",
    "print(conteos)\n",
    "\n",
    "casos_favorables = np.sum((suma_dados > 7) | (suma_dados % 2 == 0))\n",
    "\n",
    "print(casos_favorables)\n",
    "\n",
    "iteracioTotal = casos_favorables/1000\n",
    "\n",
    "print(np.round(iteracioTotal * 100, 2))\n"
   ]
  },
  {
   "cell_type": "markdown",
   "id": "55732bca",
   "metadata": {},
   "source": [
    "## Ejercicio 2\n",
    "\n",
    "Una caja contiene 10 bolas blancas, 20 bolas rojas y 30 bolas verdes. Si tomamos 5 bolas de la caja reemplazándolas (tomando una bola, anotando el color y luego regresandola a la caja). Queremos saber la probabilidad de:\n",
    "\n",
    "1. Tomar 3 blancas y 2 rojas.\n",
    "2. Toas todas del mismo color.\n",
    "\n",
    "Ejecuta el experimento 1000 veces y calcula las probabilidades que mencionadas."
   ]
  },
  {
   "cell_type": "code",
   "execution_count": null,
   "id": "23244d20",
   "metadata": {},
   "outputs": [
    {
     "name": "stdout",
     "output_type": "stream",
     "text": [
      "{0: 'White', 1: 'White', 2: 'White', 3: 'White', 4: 'White', 5: 'White', 6: 'White', 7: 'White', 8: 'White', 9: 'White', 10: 'Red', 11: 'Red', 12: 'Red', 13: 'Red', 14: 'Red', 15: 'Red', 16: 'Red', 17: 'Red', 18: 'Red', 19: 'Red', 20: 'Red', 21: 'Red', 22: 'Red', 23: 'Red', 24: 'Red', 25: 'Red', 26: 'Red', 27: 'Red', 28: 'Red', 29: 'Red', 30: 'Green', 31: 'Green', 32: 'Green', 33: 'Green', 34: 'Green', 35: 'Green', 36: 'Green', 37: 'Green', 38: 'Green', 39: 'Green', 40: 'Green', 41: 'Green', 42: 'Green', 43: 'Green', 44: 'Green', 45: 'Green', 46: 'Green', 47: 'Green', 48: 'Green', 49: 'Green', 50: 'Green', 51: 'Green', 52: 'Green', 53: 'Green', 54: 'Green', 55: 'Green', 56: 'Green', 57: 'Green', 58: 'Green', 59: 'Green'}\n",
      "La probabilidad de sacar 3 blancas y 2 rojas es: 0.0\n",
      "La probabilidad de sacar todas del mismo color es: 3.1\n"
     ]
    }
   ],
   "source": [
    "ball_box = {}\n",
    "\n",
    "# Crea la cajas con las bolas\n",
    "for i in range(60):\n",
    "    if i < 10:\n",
    "        ball_box[i] = \"White\"\n",
    "    elif (i > 9) and (i < 30):\n",
    "        ball_box[i] = \"Red\"\n",
    "    else:\n",
    "        ball_box[i] = \"Green\"\n",
    "\n",
    "print(ball_box)\n",
    "            \n",
    "# TODO\n",
    "\n",
    "balls = list(ball_box.values())\n",
    "\n",
    "caso1 = 0\n",
    "caso2 =0 \n",
    "\n",
    "for _ in range(1000):\n",
    "    bolas_extraidas = np.random.choice(balls, size=5, replace=True)\n",
    "    \n",
    "    conteo_blancas = np.sum(bolas_extraidas == 'white')\n",
    "    conteo_rojas = np.sum(bolas_extraidas == 'red')\n",
    "\n",
    "    if conteo_blancas == 3 and conteo_rojas == 2:\n",
    "        caso1 += 1\n",
    "\n",
    "    if len(np.unique(bolas_extraidas)) == 1:\n",
    "        caso2 += 1\n",
    "\n",
    "\n",
    "probabilidad = caso1 / 1000\n",
    "probabilidad2 = caso2 / 1000\n",
    "\n",
    "redondeo =  np.round(probabilidad * 100, 2)\n",
    "redondeo2 =  np.round(probabilidad2 * 100, 2)\n",
    "\n",
    "print(f'La probabilidad de sacar 3 blancas y 2 rojas es: {redondeo}')\n",
    "\n",
    "print(f'La probabilidad de sacar todas del mismo color es: {redondeo2}')"
   ]
  }
 ],
 "metadata": {
  "kernelspec": {
   "display_name": "Python 3",
   "language": "python",
   "name": "python3"
  },
  "language_info": {
   "codemirror_mode": {
    "name": "ipython",
    "version": 3
   },
   "file_extension": ".py",
   "mimetype": "text/x-python",
   "name": "python",
   "nbconvert_exporter": "python",
   "pygments_lexer": "ipython3",
   "version": "3.11.4"
  }
 },
 "nbformat": 4,
 "nbformat_minor": 5
}
